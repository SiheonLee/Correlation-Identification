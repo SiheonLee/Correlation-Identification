{
 "cells": [
  {
   "cell_type": "markdown",
   "metadata": {},
   "source": [
    "### Preprocess logs"
   ]
  },
  {
   "cell_type": "code",
   "execution_count": 6,
   "metadata": {},
   "outputs": [],
   "source": [
    "from sklearn import preprocessing\n",
    "import numpy\n",
    "import pandas as pd\n",
    "\n",
    "def log_csv_to_dataset(csv_file_path, memory_reduction):\n",
    "    data_df = pd.read_csv(csv_file_path, quotechar=\"'\")\n",
    "\n",
    "    slice_start_col = 0\n",
    "    slice_end_col = len(data_df.columns)-1\n",
    "\n",
    "    x = data_df.iloc[:, slice_start_col:slice_end_col]\n",
    "    y = data_df.iloc[:, slice_end_col:]\n",
    "\n",
    "    if memory_reduction:\n",
    "        enc = preprocessing.OrdinalEncoder(dtype=numpy.int8)\n",
    "        x = enc.fit_transform(x)\n",
    "\n",
    "    data = (x, y)\n",
    "    return data\n",
    "\n",
    "\n",
    "bpic17_logs_with_interventions_path = './data_bpic17_readyToUse_preprocessed_for_adaptation_classification.csv'\n",
    "bpic17_logs_with_interventions = log_csv_to_dataset(bpic17_logs_with_interventions_path, memory_reduction=True)"
   ]
  },
  {
   "cell_type": "code",
   "execution_count": 4,
   "metadata": {
    "collapsed": false
   },
   "outputs": [],
   "source": [
    "%matplotlib inline"
   ]
  },
  {
   "cell_type": "markdown",
   "metadata": {},
   "source": [
    "\n",
    "### Classifier comparison\n",
    "\n",
    "A comparison of a several classifiers in scikit-learn \n"
   ]
  },
  {
   "cell_type": "code",
   "execution_count": 5,
   "metadata": {
    "collapsed": false
   },
   "outputs": [
    {
     "name": "stdout",
     "output_type": "stream",
     "text": [
      "-----------------------------------------------------------\n",
      "Classifier: Nearest Neighbors\n",
      "10-fold cross-validation mean F1: 0.6143051147026661\n",
      "-----------------------------------------------------------\n",
      "Classifier: Linear SVM\n",
      "10-fold cross-validation mean F1: 0.5823711777082041\n",
      "-----------------------------------------------------------\n",
      "Classifier: RBF SVM\n",
      "10-fold cross-validation mean F1: 0.36084627707076866\n",
      "-----------------------------------------------------------\n",
      "Classifier: Decision Tree\n",
      "10-fold cross-validation mean F1: 0.7655936068453801\n",
      "-----------------------------------------------------------\n",
      "Classifier: Random Forest\n",
      "10-fold cross-validation mean F1: 0.6716211525453585\n",
      "-----------------------------------------------------------\n",
      "Classifier: Neural Net\n",
      "10-fold cross-validation mean F1: 0.722852116498167\n",
      "-----------------------------------------------------------\n",
      "Classifier: AdaBoost\n",
      "10-fold cross-validation mean F1: 0.7090081514073595\n",
      "-----------------------------------------------------------\n",
      "Classifier: Naive Bayes\n",
      "10-fold cross-validation mean F1: 0.6816088777185958\n",
      "-----------------------------------------------------------\n",
      "Classifier: QDA\n",
      "10-fold cross-validation mean F1: 0.6798284477486245\n"
     ]
    }
   ],
   "source": [
    "# Code source: Gaël Varoquaux\n",
    "#              Andreas Müller\n",
    "# Modified for documentation by Jaques Grobler\n",
    "# License: BSD 3 clause\n",
    "\n",
    "import numpy as np\n",
    "import matplotlib.pyplot as plt\n",
    "from matplotlib.colors import ListedColormap\n",
    "from sklearn.model_selection import train_test_split\n",
    "from sklearn.preprocessing import StandardScaler\n",
    "from sklearn.datasets import make_moons, make_circles, make_classification\n",
    "from sklearn.neural_network import MLPClassifier\n",
    "from sklearn.neighbors import KNeighborsClassifier\n",
    "from sklearn.svm import SVC\n",
    "from sklearn.gaussian_process import GaussianProcessClassifier\n",
    "from sklearn.gaussian_process.kernels import RBF\n",
    "from sklearn.tree import DecisionTreeClassifier\n",
    "from sklearn.ensemble import RandomForestClassifier, AdaBoostClassifier\n",
    "from sklearn.naive_bayes import GaussianNB\n",
    "from sklearn.discriminant_analysis import QuadraticDiscriminantAnalysis\n",
    "from sklearn.inspection import DecisionBoundaryDisplay\n",
    "\n",
    "from sklearn import tree\n",
    "from sklearn.tree import export_text\n",
    "from sklearn.metrics import f1_score\n",
    "from sklearn.model_selection import cross_val_score\n",
    "\n",
    "names = [\n",
    "    \"Nearest Neighbors\",\n",
    "    \"Linear SVM\",\n",
    "    \"RBF SVM\",\n",
    "    # \"Gaussian Process\",\n",
    "    \"Decision Tree\",\n",
    "    \"Random Forest\",\n",
    "    \"Neural Net\",\n",
    "    \"AdaBoost\",\n",
    "    \"Naive Bayes\",\n",
    "    \"QDA\",\n",
    "]\n",
    "\n",
    "classifiers = [\n",
    "    KNeighborsClassifier(3),\n",
    "    SVC(kernel=\"linear\", C=0.025),\n",
    "    SVC(gamma=2, C=1),\n",
    "    # GaussianProcessClassifier(1.0 * RBF(1.0)),\n",
    "    DecisionTreeClassifier(max_depth=6),\n",
    "    RandomForestClassifier(max_depth=6, n_estimators=10, max_features=1),\n",
    "    MLPClassifier(alpha=1, max_iter=1000),\n",
    "    AdaBoostClassifier(),\n",
    "    GaussianNB(),\n",
    "    QuadraticDiscriminantAnalysis(),\n",
    "]\n",
    "\n",
    "datasets = [\n",
    "    bpic17_logs_with_interventions,\n",
    "]\n",
    "\n",
    "# iterate over datasets\n",
    "for ds_cnt, ds in enumerate(datasets):\n",
    "    # preprocess dataset, normalize features\n",
    "    X, y = ds\n",
    "    X = StandardScaler().fit_transform(X)\n",
    "\n",
    "    # iterate over classifiers\n",
    "    for name, clf in zip(names, classifiers):\n",
    "\n",
    "        print('-----------------------------------------------------------')\n",
    "        print('Classifier:', name)\n",
    "\n",
    "        scores = cross_val_score(clf, X, y.values.ravel(), cv=10, scoring='f1_macro')\n",
    "        print('10-fold cross-validation mean F1:', numpy.mean(scores))\n"
   ]
  }
 ],
 "metadata": {
  "kernelspec": {
   "display_name": "Python 3.9.7 ('base')",
   "language": "python",
   "name": "python3"
  },
  "language_info": {
   "codemirror_mode": {
    "name": "ipython",
    "version": 3
   },
   "file_extension": ".py",
   "mimetype": "text/x-python",
   "name": "python",
   "nbconvert_exporter": "python",
   "pygments_lexer": "ipython3",
   "version": "3.9.7"
  },
  "orig_nbformat": 4,
  "vscode": {
   "interpreter": {
    "hash": "756d3e229894c1360f2ca7195885572463c9f7d415e2dce4f2bd2edd9ff2749f"
   }
  }
 },
 "nbformat": 4,
 "nbformat_minor": 2
}
